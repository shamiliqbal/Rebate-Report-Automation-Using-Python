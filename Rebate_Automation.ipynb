{
 "cells": [
  {
   "cell_type": "code",
   "execution_count": 199,
   "id": "c1ee1413-a4a8-4e3c-af43-8bad26fb324c",
   "metadata": {},
   "outputs": [],
   "source": [
    "import pandas as pd\n",
    "from openpyxl import load_workbook\n",
    "from openpyxl.styles import Alignment\n",
    "from openpyxl.styles import Font\n",
    "from openpyxl.styles import PatternFill\n",
    "from openpyxl.utils import get_column_letter\n",
    "from openpyxl.styles import Border, Side\n",
    "from openpyxl.styles import numbers"
   ]
  },
  {
   "cell_type": "code",
   "execution_count": 213,
   "id": "88b84aa5-4ed0-4336-bcd7-c6319d71f1d7",
   "metadata": {},
   "outputs": [],
   "source": [
    "#Reading the .CSV files to Python.\n",
    "sales = pd.read_csv(\"C:\\\\Users\\\\HP\\\\JJ_projects\\\\data.csv\")\n",
    "purchase = pd.read_csv(\"C:\\\\Users\\\\HP\\\\JJ_projects\\\\Purchase.csv\", encoding=\"ISO-8859-1\")\n",
    "rebate = pd.read_csv(\"C:\\\\Users\\\\HP\\\\JJ_projects\\\\Rebate.csv\", encoding=\"ISO-8859-1\")"
   ]
  },
  {
   "cell_type": "code",
   "execution_count": 201,
   "id": "ae609f53-de3b-4621-b889-fa67c88cb655",
   "metadata": {
    "scrolled": true
   },
   "outputs": [],
   "source": [
    "#Trimming the whitespaces from the Code in Sales Data.\n",
    "sales.columns = sales.columns.str.strip()\n",
    "\n",
    "#Splitting the merged columns to seperate Product_ID and Descritpion in Sales Data.\n",
    "sales[['Product_ID', 'Description']] = sales['Item_Code_with_Name'].str.split('-', n=1, expand=True)\n",
    "\n",
    "#Converting Quantity column in Purchase data to Numeric also catching non-numeric data type.\n",
    "purchase['Quantity'] = pd.to_numeric(purchase['Quantity'], errors='coerce')\n",
    "\n",
    "#Converting Date column in Sales data to Date format.\n",
    "sales['YYYY-MM-DD'] = pd.to_datetime(sales['YYYY-MM-DD'])\n"
   ]
  },
  {
   "cell_type": "code",
   "execution_count": 202,
   "id": "d9509029-3f62-444b-98af-71d420e5fc9e",
   "metadata": {},
   "outputs": [],
   "source": [
    "# Convert dates with day-first format\n",
    "rebate['from_date'] = pd.to_datetime(rebate['From date'], dayfirst=True, errors='coerce')\n",
    "rebate['to_date'] = pd.to_datetime(rebate['To date'], dayfirst=True, errors='coerce')\n",
    "purchase['P_Date'] = pd.to_datetime(purchase['Delivery Date'], dayfirst=True, errors='coerce')\n",
    "sales['YYYY-MM-DD'] = pd.to_datetime(sales['YYYY-MM-DD'], dayfirst=True, errors='coerce')\n",
    "\n",
    "#print(sales)\n",
    "#sales.to_excel(\"output.xlsx\", index=False)"
   ]
  },
  {
   "cell_type": "code",
   "execution_count": 203,
   "id": "09bdeed5-8dbd-4036-a76d-1e31b799290e",
   "metadata": {},
   "outputs": [],
   "source": [
    "# Define the Month date range (e.g., for 2024)\n",
    "feb_start = pd.Timestamp(\"2025-03-01\")\n",
    "feb_end = pd.Timestamp(\"2025-03-31\")"
   ]
  },
  {
   "cell_type": "code",
   "execution_count": 204,
   "id": "67ef80c7-476b-498a-a8a3-0a2c829f5913",
   "metadata": {},
   "outputs": [],
   "source": [
    "# Filter for rebates active during February\n",
    "feb_rebates = rebate[\n",
    "    (rebate['from_date'] <= feb_end) & \n",
    "    (rebate['to_date'] >= feb_start)\n",
    "]\n",
    "\n",
    "rebate['from_date'] = rebate['from_date'].apply(lambda x: max(x, feb_start))\n",
    "rebate['to_date'] = rebate['to_date'].apply(lambda x: min(x, feb_end))\n"
   ]
  },
  {
   "cell_type": "code",
   "execution_count": 205,
   "id": "b7f0882d-7427-4ed8-b165-51231a70793b",
   "metadata": {},
   "outputs": [],
   "source": [
    "sales['Product_ID'] = sales['Product_ID'].astype(str).str.strip()\n",
    "rebate['Item number'] = rebate['Item number'].astype(str).str.strip()\n"
   ]
  },
  {
   "cell_type": "code",
   "execution_count": 206,
   "id": "ccbce45e-67b2-4cba-bf1f-c52a8b57d476",
   "metadata": {
    "scrolled": true
   },
   "outputs": [],
   "source": [
    "#Process \"Buying in\" rebate rows\n",
    "buying_in_rows = purchase.merge(\n",
    "    rebate[rebate['RebateType'] == 'Buying in'], \n",
    "    left_on='Item No', \n",
    "    right_on='Item number',\n",
    "    how='outer'\n",
    ")\n",
    "\n",
    "# Filter for valid rebate periods\n",
    "buying_in_valid = buying_in_rows[\n",
    "    (buying_in_rows['P_Date'] >= buying_in_rows['from_date']) &\n",
    "    (buying_in_rows['P_Date'] <= buying_in_rows['to_date'])\n",
    "].copy()\n",
    "\n",
    "buying_in_valid['Final_Quantity'] = pd.to_numeric(buying_in_valid['Quantity'], errors='coerce')\n",
    "buying_in_valid['Date'] = buying_in_valid['P_Date']\n",
    "\n",
    "buying_in_valid.columns = buying_in_valid.columns.str.strip()\n"
   ]
  },
  {
   "cell_type": "code",
   "execution_count": 207,
   "id": "85382f78-2f55-4113-af43-15954d3cfc28",
   "metadata": {},
   "outputs": [],
   "source": [
    "#Process \"Selling out\" rebate rows\n",
    "sales_out_rows = sales.merge(\n",
    "    rebate[rebate['RebateType'] == 'Selling out'], \n",
    "    left_on='Product_ID', \n",
    "    right_on='Item number',\n",
    "    how='outer'\n",
    ")\n",
    "\n",
    "\n",
    "# Filter for valid rebate periods\n",
    "sales_out_valid = sales_out_rows[\n",
    "    (sales_out_rows['YYYY-MM-DD'] >= sales_out_rows['from_date']) &\n",
    "    (sales_out_rows['YYYY-MM-DD'] <= sales_out_rows['to_date'])\n",
    "].copy()\n",
    "\n",
    "\n",
    "\n",
    "sales_out_valid['Final_Quantity'] = pd.to_numeric(sales_out_valid['Quantity Ordered'], errors='coerce').fillna(0)\n",
    "sales_out_valid['Date'] = sales_out_valid['YYYY-MM-DD']\n",
    "\n",
    "sales_out_valid.columns = sales_out_valid.columns.str.strip()\n",
    "\n",
    "\n"
   ]
  },
  {
   "cell_type": "code",
   "execution_count": 208,
   "id": "7a4193ac-8eb6-462e-8b0b-3ca733e68413",
   "metadata": {},
   "outputs": [],
   "source": [
    "#Remove any Selling out rebate rows without actual sales\n",
    "sales_out_valid = sales_out_valid[sales_out_valid['Final_Quantity'] > 0]\n"
   ]
  },
  {
   "cell_type": "code",
   "execution_count": 209,
   "id": "9ae92d82-7847-4e85-aeb7-ffa2587d5418",
   "metadata": {},
   "outputs": [],
   "source": [
    "\n",
    "#Ensure Buying in values do not appear in \"Selling out\"\n",
    "sales_out_valid = sales_out_valid[['Supplier account','Name','Product name','Amount','Item number', 'from_date', 'to_date', 'Final_Quantity','Supplier rebate','RebateType']]\n",
    "buying_in_valid = buying_in_valid[['Supplier account','Name','Product name','Amount','Item number', 'from_date', 'to_date', 'Final_Quantity','Supplier rebate','RebateType']]\n",
    "\n"
   ]
  },
  {
   "cell_type": "code",
   "execution_count": 210,
   "id": "53eee7f3-5bf4-4a30-be6d-8d4d8298a82e",
   "metadata": {},
   "outputs": [],
   "source": [
    "\n",
    "# Combine the filtered datasets\n",
    "combined_rows = pd.concat([buying_in_valid, sales_out_valid], ignore_index=True)\n",
    "\n",
    "\n",
    "#Group by 'Item number', 'from_date', 'to_date' and sum 'Final_Quantity'\n",
    "result = combined_rows.groupby(['Supplier account','Name','Product name','Amount','Item number', 'from_date', 'to_date','Supplier rebate','RebateType'], as_index=False)['Final_Quantity'].sum()\n"
   ]
  },
  {
   "cell_type": "code",
   "execution_count": 211,
   "id": "9fe4fb8c-ebb5-421d-a60d-e2b090b457dc",
   "metadata": {},
   "outputs": [],
   "source": [
    "# Calculate Total Amount\n",
    "result['Total_Amount'] = result['Final_Quantity'] * result['Amount']\n",
    "\n",
    "final_df = result[\n",
    "    (result['Final_Quantity'] > 0)\n",
    "][[\n",
    "    'Supplier account', 'Name', 'Item number', 'Product name', 'Amount', 'Final_Quantity', 'Total_Amount','from_date', 'to_date','Supplier rebate', 'RebateType'\n",
    "]]\n"
   ]
  },
  {
   "cell_type": "code",
   "execution_count": 212,
   "id": "8e7fe02f-e301-4624-baab-d407b3c7a35d",
   "metadata": {},
   "outputs": [],
   "source": [
    "\n",
    "df = pd.DataFrame(final_df)\n",
    "\n",
    "# Assuming 'df' is your DataFrame\n",
    "df['Total_Amount'] = pd.to_numeric(df['Total_Amount'], errors='coerce').fillna(0)\n",
    "\n",
    "# Sort and prepare output DataFrame\n",
    "output_frames = []\n",
    "\n",
    "for name, group in df.groupby('Name'):\n",
    "    # Add header row for each group\n",
    "    output_frames.append(pd.DataFrame([df.columns.tolist()], columns=df.columns))\n",
    "    \n",
    "    # Add group data\n",
    "    output_frames.append(group)\n",
    "    \n",
    "    # Add total row under Total_Amount\n",
    "    total_row = [''] * len(df.columns)\n",
    "    total_row[df.columns.get_loc('Total_Amount')] = group['Total_Amount'].sum()\n",
    "    output_frames.append(pd.DataFrame([total_row], columns=df.columns))\n",
    "    \n",
    "    # Add 2 blank rows after each group\n",
    "    output_frames.append(pd.DataFrame([[''] * len(df.columns)] * 2, columns=df.columns))\n",
    "\n",
    "# Combine everything into one final DataFrame\n",
    "final_output = pd.concat(output_frames, ignore_index=True)\n",
    "\n",
    "# Export to Excel\n",
    "output_file = \"final_output_with_totals.xlsx\"\n",
    "final_output.to_excel(output_file, index=False, header=False)\n",
    "\n",
    "# Load workbook for formatting\n",
    "wb = load_workbook(\"final_output_with_totals.xlsx\")\n",
    "ws = wb.active\n",
    "\n",
    "# Apply bold formatting to all header rows\n",
    "for row in ws.iter_rows(min_row=1, max_row=ws.max_row, min_col=1, max_col=ws.max_column):\n",
    "    if all(cell.value == col_name for cell, col_name in zip(row, df.columns.tolist())):\n",
    "        for cell in row:\n",
    "            cell.font = Font(bold=True)\n",
    "\n",
    "# Define yellow fill style\n",
    "yellow_fill = PatternFill(start_color=\"FFFF00\", end_color=\"FFFF00\", fill_type=\"solid\")\n",
    "\n",
    "# Find the 'Total_Amount' column\n",
    "total_amount_col = list(df.columns).index('Total_Amount') + 1\n",
    "\n",
    "# Loop through all rows and detect subtotals\n",
    "for row in range(2, ws.max_row):\n",
    "    cell = ws.cell(row=row, column=total_amount_col)\n",
    "    next_cell = ws.cell(row=row + 1, column=total_amount_col)\n",
    "    \n",
    "    # Check if this row has a numeric total and the next row starts a new group (or is blank)\n",
    "    if isinstance(cell.value, (int, float)) and (next_cell.value is None or not isinstance(next_cell.value, (int, float))):\n",
    "        cell.fill = yellow_fill\n",
    "\n",
    "# Save the modified file\n",
    "output_file = \"highlighted_subtotals.xlsx\"\n",
    "\n",
    "\n",
    "# Define basic thin border style\n",
    "thin_border = Border(\n",
    "    left=Side(style=\"thin\"),\n",
    "    right=Side(style=\"thin\"),\n",
    "    top=Side(style=\"thin\"),\n",
    "    bottom=Side(style=\"thin\")\n",
    ")\n",
    "\n",
    "# Include the header row in the first section’s border\n",
    "start_row = 1\n",
    "previous_value = None\n",
    "\n",
    "# Loop through rows to detect section changes\n",
    "for row in range(2, ws.max_row + 1):\n",
    "    current_value = ws[f\"A{row}\"].value  # Adjust 'A' to the key column if needed\n",
    "\n",
    "    # Check if the section changes or it's the last row\n",
    "    if current_value != previous_value or row == ws.max_row:\n",
    "        # Apply borders to the whole section, including the last row\n",
    "        for r in range(start_row, row + 1):\n",
    "            if any(ws.cell(row=r, column=c).value is not None for c in range(1, ws.max_column + 1)):\n",
    "                for col in range(1, ws.max_column + 1):\n",
    "                    cell = ws.cell(row=r, column=col)\n",
    "                    cell.border = thin_border\n",
    "\n",
    "        # Start the next section after the blank row\n",
    "        start_row = row + 1\n",
    "\n",
    "    previous_value = current_value\n",
    "\n",
    "# Define the columns to format\n",
    "amount_col = list(df.columns).index('Amount') + 1\n",
    "total_amount_col = list(df.columns).index('Total_Amount') + 1\n",
    "\n",
    "# Loop through rows and apply pound formatting to numeric cells\n",
    "for row in range(2, ws.max_row + 1):  # Skip header row\n",
    "    for col in [amount_col, total_amount_col]:\n",
    "        cell = ws.cell(row=row, column=col)\n",
    "        if isinstance(cell.value, (int, float)):\n",
    "            cell.number_format = '£#,##0.00' \n",
    "\n",
    "\n",
    "# Save the updated file\n",
    "wb.save('final_output_with_totals.xlsx')"
   ]
  },
  {
   "cell_type": "code",
   "execution_count": null,
   "id": "aa17f40f-2d69-4c63-926a-0d4506fe7817",
   "metadata": {},
   "outputs": [],
   "source": []
  }
 ],
 "metadata": {
  "kernelspec": {
   "display_name": "Python 3 (ipykernel)",
   "language": "python",
   "name": "python3"
  },
  "language_info": {
   "codemirror_mode": {
    "name": "ipython",
    "version": 3
   },
   "file_extension": ".py",
   "mimetype": "text/x-python",
   "name": "python",
   "nbconvert_exporter": "python",
   "pygments_lexer": "ipython3",
   "version": "3.10.11"
  }
 },
 "nbformat": 4,
 "nbformat_minor": 5
}
